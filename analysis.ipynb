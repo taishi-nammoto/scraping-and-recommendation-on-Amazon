{
 "cells": [
  {
   "cell_type": "code",
   "execution_count": 1,
   "id": "nutritional-recycling",
   "metadata": {},
   "outputs": [
    {
     "name": "stderr",
     "output_type": "stream",
     "text": [
      "[nltk_data] Downloading package punkt to /Users/taishi/nltk_data...\n",
      "[nltk_data]   Package punkt is already up-to-date!\n",
      "[nltk_data] Downloading package stopwords to\n",
      "[nltk_data]     /Users/taishi/nltk_data...\n",
      "[nltk_data]   Package stopwords is already up-to-date!\n"
     ]
    }
   ],
   "source": [
    "import numpy as np\n",
    "import pandas as pd\n",
    "import seaborn as sns\n",
    "import matplotlib.pyplot as plt\n",
    "from IPython.display import set_matplotlib_formats\n",
    "set_matplotlib_formats('svg')\n",
    "\n",
    "import nltk\n",
    "nltk.download('punkt')\n",
    "nltk.download('stopwords')\n",
    "from string import punctuation\n",
    "from nltk.corpus import stopwords\n",
    "from nltk.tokenize import word_tokenize\n",
    "\n",
    "import gensim\n",
    "import gensim.downloader as api\n",
    "\n",
    "import warnings\n",
    "warnings.filterwarnings('ignore')\n",
    "\n",
    "from IPython.display import display, HTML"
   ]
  },
  {
   "cell_type": "markdown",
   "id": "crude-automation",
   "metadata": {},
   "source": [
    "### Read Excel file "
   ]
  },
  {
   "cell_type": "code",
   "execution_count": 2,
   "id": "neither-incentive",
   "metadata": {},
   "outputs": [
    {
     "data": {
      "text/html": [
       "<div>\n",
       "<style scoped>\n",
       "    .dataframe tbody tr th:only-of-type {\n",
       "        vertical-align: middle;\n",
       "    }\n",
       "\n",
       "    .dataframe tbody tr th {\n",
       "        vertical-align: top;\n",
       "    }\n",
       "\n",
       "    .dataframe thead th {\n",
       "        text-align: right;\n",
       "    }\n",
       "</style>\n",
       "<table border=\"1\" class=\"dataframe\">\n",
       "  <thead>\n",
       "    <tr style=\"text-align: right;\">\n",
       "      <th></th>\n",
       "      <th>description</th>\n",
       "      <th>rating</th>\n",
       "      <th>price</th>\n",
       "      <th>num_reviews</th>\n",
       "      <th>item_url</th>\n",
       "      <th>img_url</th>\n",
       "    </tr>\n",
       "  </thead>\n",
       "  <tbody>\n",
       "    <tr>\n",
       "      <th>0</th>\n",
       "      <td>Gaming Chair Office Chair Racing Chair with Fo...</td>\n",
       "      <td>4.0 out of 5 stars</td>\n",
       "      <td>$124.99</td>\n",
       "      <td>58</td>\n",
       "      <td>https://www.amazon.com//gp/slredirect/picassoR...</td>\n",
       "      <td>https://m.media-amazon.com/images/I/51QVMawqOA...</td>\n",
       "    </tr>\n",
       "    <tr>\n",
       "      <th>1</th>\n",
       "      <td>Amazon Basics Classic Puresoft PU-Padded Mid-B...</td>\n",
       "      <td>4.4 out of 5 stars</td>\n",
       "      <td>$78.99</td>\n",
       "      <td>8,477</td>\n",
       "      <td>https://www.amazon.com//AmazonBasics-Puresoft-...</td>\n",
       "      <td>https://m.media-amazon.com/images/I/71i08qnZeD...</td>\n",
       "    </tr>\n",
       "    <tr>\n",
       "      <th>2</th>\n",
       "      <td>Home Office Chair Ergonomic Desk Chair Mid-Bac...</td>\n",
       "      <td>4.3 out of 5 stars</td>\n",
       "      <td>$49.99</td>\n",
       "      <td>3,514</td>\n",
       "      <td>https://www.amazon.com//Home-Office-Chair-Comf...</td>\n",
       "      <td>https://m.media-amazon.com/images/I/71ilabF2PP...</td>\n",
       "    </tr>\n",
       "    <tr>\n",
       "      <th>3</th>\n",
       "      <td>KOLLIEE Mid Back Mesh Office Chair Ergonomic S...</td>\n",
       "      <td>3.9 out of 5 stars</td>\n",
       "      <td>$99.99</td>\n",
       "      <td>4,159</td>\n",
       "      <td>https://www.amazon.com//SINOVO-Ergonomic-Compu...</td>\n",
       "      <td>https://m.media-amazon.com/images/I/61FbxgUGf3...</td>\n",
       "    </tr>\n",
       "    <tr>\n",
       "      <th>4</th>\n",
       "      <td>Hbada Office Task Desk Chair Swivel Home Comfo...</td>\n",
       "      <td>4.2 out of 5 stars</td>\n",
       "      <td>$129.99</td>\n",
       "      <td>9,767</td>\n",
       "      <td>https://www.amazon.com//Hbada-Office-Comfort-F...</td>\n",
       "      <td>https://m.media-amazon.com/images/I/41ony8a6Oi...</td>\n",
       "    </tr>\n",
       "  </tbody>\n",
       "</table>\n",
       "</div>"
      ],
      "text/plain": [
       "                                         description              rating  \\\n",
       "0  Gaming Chair Office Chair Racing Chair with Fo...  4.0 out of 5 stars   \n",
       "1  Amazon Basics Classic Puresoft PU-Padded Mid-B...  4.4 out of 5 stars   \n",
       "2  Home Office Chair Ergonomic Desk Chair Mid-Bac...  4.3 out of 5 stars   \n",
       "3  KOLLIEE Mid Back Mesh Office Chair Ergonomic S...  3.9 out of 5 stars   \n",
       "4  Hbada Office Task Desk Chair Swivel Home Comfo...  4.2 out of 5 stars   \n",
       "\n",
       "     price num_reviews                                           item_url  \\\n",
       "0  $124.99          58  https://www.amazon.com//gp/slredirect/picassoR...   \n",
       "1   $78.99       8,477  https://www.amazon.com//AmazonBasics-Puresoft-...   \n",
       "2   $49.99       3,514  https://www.amazon.com//Home-Office-Chair-Comf...   \n",
       "3   $99.99       4,159  https://www.amazon.com//SINOVO-Ergonomic-Compu...   \n",
       "4  $129.99       9,767  https://www.amazon.com//Hbada-Office-Comfort-F...   \n",
       "\n",
       "                                             img_url  \n",
       "0  https://m.media-amazon.com/images/I/51QVMawqOA...  \n",
       "1  https://m.media-amazon.com/images/I/71i08qnZeD...  \n",
       "2  https://m.media-amazon.com/images/I/71ilabF2PP...  \n",
       "3  https://m.media-amazon.com/images/I/61FbxgUGf3...  \n",
       "4  https://m.media-amazon.com/images/I/41ony8a6Oi...  "
      ]
     },
     "execution_count": 2,
     "metadata": {},
     "output_type": "execute_result"
    }
   ],
   "source": [
    "path = 'Data/table_data.xlsx'\n",
    "df = pd.read_excel(path, sheet_name='Item_info')\n",
    "\n",
    "df.head()"
   ]
  },
  {
   "cell_type": "markdown",
   "id": "naked-bahamas",
   "metadata": {},
   "source": [
    "### Clean data in description column "
   ]
  },
  {
   "cell_type": "code",
   "execution_count": null,
   "id": "electrical-performance",
   "metadata": {},
   "outputs": [],
   "source": [
    "list_sw = set(stopwords.words('english') + list(punctuation))\n",
    "\n",
    "# Lower case for text columns\n",
    "df['description'] = df['description'].str.lower()\n",
    "\n",
    "# Tokenize\n",
    "df['description'] = df['description'].apply(word_tokenize)\n",
    "\n",
    "# Stop words\n",
    "df['description'] = df['description'].apply(lambda x: [word for word in x if word not in list_sw])\n",
    "\n",
    "# Remove punctuation\n",
    "df['description'] = df['description'].apply(lambda x: [word.translate(str.maketrans('', '', punctuation)) for word in x])\n",
    "\n",
    "# Remove duplicated words\n",
    "df['description'] = df['description'].apply(lambda x: list(set(x)))\n",
    "\n",
    "# Download pretrained Google word2vec model\n",
    "path = api.load(\"word2vec-google-news-300\", return_path=True)\n",
    "\n",
    "# Load the trained model from the path\n",
    "model = gensim.models.KeyedVectors.load_word2vec_format(path, binary=True)\n",
    "\n",
    "# Select pre-trained words (Google has trained 3 million words and phrases)\n",
    "df['description'] = df['description'].apply(lambda x: [word for word in x if word in model.vocab])\n",
    "\n",
    "df.head()"
   ]
  },
  {
   "cell_type": "markdown",
   "id": "reliable-retailer",
   "metadata": {},
   "source": [
    "### Clean data in rating column"
   ]
  },
  {
   "cell_type": "code",
   "execution_count": null,
   "id": "senior-eligibility",
   "metadata": {},
   "outputs": [],
   "source": [
    "# Float rating number\n",
    "df['rating'] = df['rating'].apply(lambda x: float(x.split()[0]))\n",
    "\n",
    "df.head()"
   ]
  },
  {
   "cell_type": "markdown",
   "id": "educational-growth",
   "metadata": {},
   "source": [
    "### Clean data in price column"
   ]
  },
  {
   "cell_type": "code",
   "execution_count": null,
   "id": "northern-emission",
   "metadata": {},
   "outputs": [],
   "source": [
    "# Float price number\n",
    "df['price'] = df['price'].apply(lambda x: float(x[1:]))\n",
    "\n",
    "df.head()"
   ]
  },
  {
   "cell_type": "markdown",
   "id": "shared-combination",
   "metadata": {},
   "source": [
    "### Clean data in num_reviews column"
   ]
  },
  {
   "cell_type": "code",
   "execution_count": null,
   "id": "competent-console",
   "metadata": {},
   "outputs": [],
   "source": [
    "# Int review number\n",
    "df['num_reviews'] = df['num_reviews'].apply(lambda x: int(x.replace(',','')))\n",
    "\n",
    "df.head()"
   ]
  },
  {
   "cell_type": "markdown",
   "id": "manufactured-england",
   "metadata": {},
   "source": [
    "### Remove duplicated values"
   ]
  },
  {
   "cell_type": "code",
   "execution_count": null,
   "id": "regular-pricing",
   "metadata": {},
   "outputs": [],
   "source": [
    "df=df.drop_duplicates(subset=['rating', 'price', 'num_reviews'], keep='last')"
   ]
  },
  {
   "cell_type": "markdown",
   "id": "dated-shock",
   "metadata": {},
   "source": [
    "### Analyse corrletion "
   ]
  },
  {
   "cell_type": "code",
   "execution_count": null,
   "id": "plain-terminal",
   "metadata": {},
   "outputs": [],
   "source": [
    "sns.set_theme()\n",
    "sns.set_context(\"notebook\", font_scale=1.1)\n",
    "\n",
    "plt.figure(figsize=(8, 4))\n",
    "mask = np.triu(np.ones_like(df.corr(), dtype=np.bool))\n",
    "heatmap = sns.heatmap(data=df.corr(), vmin=-1, vmax=1, annot=True, mask=mask)\n",
    "heatmap.set_title('Relationships of chair price and reviews on Amazon')\n",
    "plt.yticks(rotation=0)\n",
    "plt.xticks(rotation=0)\n",
    "plt.savefig('Data/correlation.png', dpi=300);"
   ]
  },
  {
   "cell_type": "markdown",
   "id": "quick-family",
   "metadata": {},
   "source": [
    "- Positive Correlation: both variables change in the same direction.\n",
    "- Neutral Correlation: No relationship in the change of the variables.\n",
    "- Negative Correlation: variables change in opposite directions.\n",
    "\n",
    "The figure above shows ***Neutral Correlation*** meaning <mark>no major relations among rating, price, and number of reviews</mark>"
   ]
  },
  {
   "cell_type": "markdown",
   "id": "color-capture",
   "metadata": {},
   "source": [
    "### Analyse price range"
   ]
  },
  {
   "cell_type": "code",
   "execution_count": null,
   "id": "spiritual-inflation",
   "metadata": {},
   "outputs": [],
   "source": [
    "price_mean = df['price'].mean()\n",
    "df['reasonable price?'] = df['price'].apply(lambda x: 'yes' if x<price_mean else 'no')\n",
    "\n",
    "review_mean = df['num_reviews'].mean()\n",
    "df['enough reviews?'] = df['num_reviews'].apply(lambda x: 'yes' if x>review_mean else 'no')\n",
    "\n",
    "rating_mean = df['rating'].mean()\n",
    "df['good rating?'] = df['rating'].apply(lambda x: 'yes' if (x>rating_mean) else 'no')\n",
    "\n",
    "\n",
    "def overall(row):\n",
    "    if row['num_reviews']>review_mean and row['rating']>rating_mean and row['price']<price_mean:\n",
    "        return 'good'\n",
    "    elif row['rating']>rating_mean and (row['num_reviews']>review_mean or row['price']<price_mean):\n",
    "        return 'okay'\n",
    "    else:\n",
    "        return 'bad'\n",
    "    \n",
    "df['overall response'] = df.apply(overall, axis=1)"
   ]
  },
  {
   "cell_type": "code",
   "execution_count": null,
   "id": "signed-bench",
   "metadata": {},
   "outputs": [],
   "source": [
    "sns.set_context(\"notebook\", font_scale=1.1)\n",
    "plt.figure(figsize=(8, 4))\n",
    "histgram = sns.histplot(x='price', data=df, kde=True, hue='good rating?', hue_order=['yes','no'])\n",
    "histgram.set_title('Price Range of Chairs on Amazon', size = 15)\n",
    "histgram.set_xlabel('Price $', rotation=0)\n",
    "histgram.set_ylabel('Num of Items', labelpad=10)\n",
    "plt.savefig('Data/price_hist.png', dpi=300);"
   ]
  },
  {
   "cell_type": "markdown",
   "id": "precious-chassis",
   "metadata": {},
   "source": [
    "The figure above shows the rating of items according to their rating and review number. A good response refers to a sufficient number of ratings above the averages. On the other hand, the bad response refers to any ratings below the average. <mark> The figure shows no relations between price and rating </mark>"
   ]
  },
  {
   "cell_type": "markdown",
   "id": "collective-petite",
   "metadata": {},
   "source": [
    "### Distribution of Rating"
   ]
  },
  {
   "cell_type": "code",
   "execution_count": null,
   "id": "eligible-feature",
   "metadata": {},
   "outputs": [],
   "source": [
    "plt.figure(figsize=(8, 4))\n",
    "distribution = sns.histplot(x='rating', data=df, kde=True)\n",
    "distribution.set_xlabel(\"Rating\")\n",
    "distribution.set_ylabel(\"Num of Items\")\n",
    "distribution.set_title(\"Distribution of Rating\", size = 15)\n",
    "plt.savefig('Data/distribution_rating.png', dpi=300);"
   ]
  },
  {
   "cell_type": "markdown",
   "id": "provincial-seller",
   "metadata": {},
   "source": [
    "### Distribution of reviews"
   ]
  },
  {
   "cell_type": "code",
   "execution_count": null,
   "id": "macro-standard",
   "metadata": {},
   "outputs": [],
   "source": [
    "plt.figure(figsize=(8, 4))\n",
    "distribution = sns.kdeplot(x='num_reviews', data=df, shade = True)\n",
    "distribution.set_xlabel(\"num_reviews\")\n",
    "distribution.set_ylabel(\"Frequency\")\n",
    "distribution.set_xlim(0,35000)\n",
    "distribution.set_title(\"Distribution of reviews\", size = 15)\n",
    "plt.savefig('Data/distribution_reviews.png', dpi=300);"
   ]
  },
  {
   "cell_type": "markdown",
   "id": "painted-arbor",
   "metadata": {},
   "source": [
    "### Find frequency of words"
   ]
  },
  {
   "cell_type": "code",
   "execution_count": null,
   "id": "mental-venue",
   "metadata": {},
   "outputs": [],
   "source": [
    "plt.figure(figsize=(8, 4))\n",
    "df_frequency = pd.value_counts(df['description'].sum()).iloc[1:11].sort_values()\n",
    "count_plot = df_frequency.plot(kind='barh')\n",
    "count_plot.set_title('Top 10 Frequent Words to describe chairs on Amazon', pad=10)\n",
    "count_plot.set_xlabel('Count', rotation=0, labelpad=10)\n",
    "count_plot.set_ylabel('Word', labelpad=10)\n",
    "plt.savefig('Data/word_frequency.png', dpi=300);"
   ]
  },
  {
   "cell_type": "markdown",
   "id": "emotional-entity",
   "metadata": {},
   "source": [
    "### Recommendation engine according to item's description, price, rating, and number of reviews"
   ]
  },
  {
   "cell_type": "code",
   "execution_count": null,
   "id": "multiple-favor",
   "metadata": {},
   "outputs": [],
   "source": [
    "# Display results\n",
    "def show_images(df_recommend):\n",
    "    script=''\n",
    "    html=\"<a target='_blank' href='{}' style='vertical-align:top; display:inline-block;text-align:center;width:120px;margin:5px'>{} stars <br> {} reviews <br> ${} <img src='{}' style='display:inline;width:120px;margin:5px'/> </a>\"\n",
    "    for i in range(len(df_recommend)):\n",
    "        script+=html.format(df_recommend['item_url'].iloc[i], df_recommend['rating'].iloc[i], \n",
    "                   df_recommend['num_reviews'].iloc[i], df_recommend['price'].iloc[i], df_recommend['img_url'].iloc[i])\n",
    "    return display(HTML(script))\n",
    "\n",
    "\n",
    "# Recommend engine\n",
    "def recommend(search, df):\n",
    "    search = search.strip().split()\n",
    "    search = [word for word in search if word in model.vocab]\n",
    "    df_recommend = df.copy()\n",
    "    df_recommend['similarity'] = df_recommend['description'].apply(lambda x: model.n_similarity(search,x))\n",
    "    df_recommend = df_recommend.loc[df_recommend['enough reviews?']=='yes']\n",
    "    df_recommend = df_recommend.sort_values(['similarity'], ascending=False).iloc[:5]\n",
    "    df_recommend['overall similarity'] = ((df_recommend['rating']/5) + df_recommend['similarity'] + (df_recommend['num_reviews']/df_recommend['num_reviews'].max()) + (1 - df_recommend['price']/df_recommend['price'].max()))/4\n",
    "    df_recommend = df_recommend.sort_values(['overall similarity'], ascending=False)\n",
    "    return show_images(df_recommend)\n"
   ]
  },
  {
   "cell_type": "code",
   "execution_count": null,
   "id": "crude-stocks",
   "metadata": {},
   "outputs": [],
   "source": [
    "recommend('gaming chair',df)"
   ]
  },
  {
   "cell_type": "code",
   "execution_count": null,
   "id": "wanted-romania",
   "metadata": {},
   "outputs": [],
   "source": [
    "recommend('office chair',df)"
   ]
  },
  {
   "cell_type": "code",
   "execution_count": null,
   "id": "creative-publisher",
   "metadata": {},
   "outputs": [],
   "source": []
  }
 ],
 "metadata": {
  "kernelspec": {
   "display_name": "Python 3",
   "language": "python",
   "name": "python3"
  },
  "language_info": {
   "codemirror_mode": {
    "name": "ipython",
    "version": 3
   },
   "file_extension": ".py",
   "mimetype": "text/x-python",
   "name": "python",
   "nbconvert_exporter": "python",
   "pygments_lexer": "ipython3",
   "version": "3.7.10"
  }
 },
 "nbformat": 4,
 "nbformat_minor": 5
}
